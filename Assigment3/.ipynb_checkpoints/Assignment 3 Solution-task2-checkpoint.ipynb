{
 "cells": [
  {
   "cell_type": "code",
   "execution_count": 1,
   "metadata": {},
   "outputs": [
    {
     "ename": "ModuleNotFoundError",
     "evalue": "No module named 'recordlinkage'",
     "output_type": "error",
     "traceback": [
      "\u001b[0;31m---------------------------------------------------------------------------\u001b[0m",
      "\u001b[0;31mModuleNotFoundError\u001b[0m                       Traceback (most recent call last)",
      "\u001b[0;32m<ipython-input-1-65dec8bfbf60>\u001b[0m in \u001b[0;36m<module>\u001b[0;34m()\u001b[0m\n\u001b[1;32m      4\u001b[0m \u001b[0;32mimport\u001b[0m \u001b[0mtime\u001b[0m\u001b[0;34m\u001b[0m\u001b[0m\n\u001b[1;32m      5\u001b[0m \u001b[0;32mimport\u001b[0m \u001b[0mmath\u001b[0m\u001b[0;34m\u001b[0m\u001b[0m\n\u001b[0;32m----> 6\u001b[0;31m \u001b[0;32mimport\u001b[0m \u001b[0mrecordlinkage\u001b[0m\u001b[0;34m\u001b[0m\u001b[0m\n\u001b[0m",
      "\u001b[0;31mModuleNotFoundError\u001b[0m: No module named 'recordlinkage'"
     ]
    }
   ],
   "source": [
    "#importing modudles\n",
    "import pandas as pd\n",
    "import numpy as np\n",
    "import time\n",
    "import math\n",
    "import recordlinkage"
   ]
  },
  {
   "cell_type": "code",
   "execution_count": 2,
   "metadata": {
    "collapsed": true
   },
   "outputs": [],
   "source": [
    "dfA = pd.read_csv('CleanedInputDB.csv')\n",
    "dfA['SSN'] = dfA['SSN'].astype(str)"
   ]
  },
  {
   "cell_type": "code",
   "execution_count": 37,
   "metadata": {
    "collapsed": true
   },
   "outputs": [],
   "source": [
    "start_time = time.time()\n",
    "# Indexation step\n",
    "pcl = recordlinkage.SortedNeighbourhoodIndex('FirstName', window=19)\n",
    "pairs = pcl.index(dfA)\n",
    "# Comparison step\n",
    "compare_cl = recordlinkage.Compare()\n",
    "compare_cl.string('LastName', 'LastName', method='jaro', threshold=0.85, label='LastName')\n",
    "compare_cl.string('FirstName', 'FirstName', method='jaro', threshold=0.85, label='FirstName')\n",
    "compare_cl.string('SSN', 'SSN', method='jaro', threshold=0.85, label='SSN')\n",
    "\n",
    "features = compare_cl.compute(pairs, dfA)\n",
    "end_time = time.time()\n",
    "total_time = end_time - start_time"
   ]
  },
  {
   "cell_type": "code",
   "execution_count": 38,
   "metadata": {},
   "outputs": [
    {
     "name": "stdout",
     "output_type": "stream",
     "text": [
      "834.2437748908997\n"
     ]
    }
   ],
   "source": [
    "print(total_time)"
   ]
  },
  {
   "cell_type": "code",
   "execution_count": 39,
   "metadata": {},
   "outputs": [
    {
     "name": "stdout",
     "output_type": "stream",
     "text": [
      "             LastName  FirstName  SSN\n",
      "22759 44373       1.0        1.0  1.0\n",
      "41475 62332       1.0        1.0  1.0\n",
      "3237  28510       1.0        1.0  1.0\n",
      "3771  7010        1.0        1.0  1.0\n",
      "707   62302       1.0        1.0  1.0\n",
      "4882  78134       1.0        1.0  1.0\n",
      "5852  62302       1.0        1.0  1.0\n",
      "7327  62302       1.0        1.0  1.0\n",
      "16135 70635       1.0        1.0  1.0\n",
      "23026 62302       1.0        1.0  1.0\n",
      "28018 78134       1.0        1.0  1.0\n",
      "62313 78134       1.0        1.0  1.0\n",
      "883   10663       1.0        1.0  1.0\n",
      "13502 16557       1.0        1.0  1.0\n",
      "21024 33780       1.0        1.0  1.0\n",
      "      69819       1.0        1.0  1.0\n",
      "27278 46402       1.0        1.0  1.0\n",
      "      83497       1.0        1.0  1.0\n",
      "      88786       1.0        1.0  1.0\n",
      "4253  28281       1.0        1.0  1.0\n",
      "10688 12002       1.0        1.0  1.0\n",
      "25849 69245       1.0        1.0  1.0\n",
      "5556  66584       1.0        1.0  1.0\n",
      "      90897       1.0        1.0  1.0\n",
      "5863  29151       1.0        1.0  1.0\n",
      "      54409       1.0        1.0  1.0\n",
      "      74539       1.0        1.0  1.0\n",
      "30897 31603       1.0        1.0  1.0\n",
      "7591  66777       1.0        1.0  1.0\n",
      "11217 35517       1.0        1.0  1.0\n",
      "...               ...        ...  ...\n",
      "9769  84972       1.0        1.0  1.0\n",
      "35587 84972       1.0        1.0  1.0\n",
      "8724  68493       1.0        1.0  1.0\n",
      "10341 49082       1.0        1.0  1.0\n",
      "19681 49082       1.0        1.0  1.0\n",
      "10663 22736       1.0        1.0  1.0\n",
      "      26162       1.0        1.0  1.0\n",
      "      65745       1.0        1.0  1.0\n",
      "16557 31731       1.0        1.0  1.0\n",
      "      51548       1.0        1.0  1.0\n",
      "11864 45843       1.0        1.0  1.0\n",
      "      56220       1.0        1.0  1.0\n",
      "      68370       1.0        1.0  1.0\n",
      "      71455       1.0        1.0  1.0\n",
      "41154 91454       1.0        1.0  1.0\n",
      "14733 24088       1.0        1.0  1.0\n",
      "      58003       1.0        1.0  1.0\n",
      "      87639       1.0        1.0  1.0\n",
      "62302 72401       1.0        1.0  1.0\n",
      "56112 71382       1.0        1.0  1.0\n",
      "65060 71382       1.0        1.0  1.0\n",
      "66549 71382       1.0        1.0  1.0\n",
      "31603 85325       1.0        1.0  1.0\n",
      "      88117       1.0        1.0  1.0\n",
      "44230 66295       1.0        1.0  1.0\n",
      "44373 64892       1.0        1.0  1.0\n",
      "      69674       1.0        1.0  1.0\n",
      "      73919       1.0        1.0  1.0\n",
      "61842 90889       1.0        1.0  1.0\n",
      "69245 69945       1.0        1.0  1.0\n",
      "\n",
      "[70021 rows x 3 columns]\n"
     ]
    }
   ],
   "source": [
    "# Classification step\n",
    "matches = features[features.sum(axis=1) > 2]\n",
    "print(matches)"
   ]
  },
  {
   "cell_type": "code",
   "execution_count": 40,
   "metadata": {},
   "outputs": [
    {
     "name": "stdout",
     "output_type": "stream",
     "text": [
      "70021\n"
     ]
    }
   ],
   "source": [
    "headers=['tuple_id_1', 'tuple_id_2']\n",
    "print(len(matches))\n",
    "res =[]"
   ]
  },
  {
   "cell_type": "code",
   "execution_count": 41,
   "metadata": {},
   "outputs": [
    {
     "name": "stdout",
     "output_type": "stream",
     "text": [
      "Passed 0\n",
      "Passed 10000\n",
      "Passed 20000\n",
      "Passed 30000\n",
      "Passed 40000\n",
      "Passed 50000\n",
      "Passed 60000\n",
      "Passed 70000\n"
     ]
    }
   ],
   "source": [
    "for i in range(len(matches)):\n",
    "    name0 = matches.iloc[i].name[0]\n",
    "    name1 = matches.iloc[i].name[1]\n",
    "    first = dfA.iloc[name0]['RecID']\n",
    "    second = dfA.iloc[name1]['RecID']\n",
    "    res.append([first,second])\n",
    "    if(i%10000 == 0):\n",
    "        print('Passed', i)"
   ]
  },
  {
   "cell_type": "code",
   "execution_count": 42,
   "metadata": {
    "collapsed": true
   },
   "outputs": [],
   "source": [
    "dfout = pd.DataFrame(res, columns=headers)"
   ]
  },
  {
   "cell_type": "code",
   "execution_count": 43,
   "metadata": {
    "collapsed": true
   },
   "outputs": [],
   "source": [
    "dfout.to_csv('OutputDB.csv', index=False)"
   ]
  },
  {
   "cell_type": "code",
   "execution_count": 44,
   "metadata": {},
   "outputs": [
    {
     "name": "stdout",
     "output_type": "stream",
     "text": [
      "b'Duplicate Detection Results:\\nPrecision = 0.98701818026\\nRecall = 0.279551016281\\nF1 = 0.435699740895\\n'\n"
     ]
    }
   ],
   "source": [
    "bashCommand = \"python web_client.py\"\n",
    "import subprocess\n",
    "process = subprocess.Popen(bashCommand.split(), stdout=subprocess.PIPE)\n",
    "output, error = process.communicate()\n",
    "print(output)"
   ]
  },
  {
   "cell_type": "code",
   "execution_count": null,
   "metadata": {
    "collapsed": true
   },
   "outputs": [],
   "source": []
  }
 ],
 "metadata": {
  "kernelspec": {
   "display_name": "Python 3",
   "language": "python",
   "name": "python3"
  },
  "language_info": {
   "codemirror_mode": {
    "name": "ipython",
    "version": 3
   },
   "file_extension": ".py",
   "mimetype": "text/x-python",
   "name": "python",
   "nbconvert_exporter": "python",
   "pygments_lexer": "ipython3",
   "version": "3.6.2"
  }
 },
 "nbformat": 4,
 "nbformat_minor": 2
}
