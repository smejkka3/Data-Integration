{
 "cells": [
  {
   "cell_type": "code",
   "execution_count": 2,
   "metadata": {
    "collapsed": true
   },
   "outputs": [],
   "source": [
    "#importing modudles\n",
    "import pandas as pd\n",
    "import numpy as np\n",
    "import time\n",
    "import math\n",
    "import recordlinkage"
   ]
  },
  {
   "cell_type": "code",
   "execution_count": 3,
   "metadata": {
    "collapsed": true
   },
   "outputs": [],
   "source": [
    "dfA = pd.read_csv('CleanedInputDB.csv')\n",
    "dfA['SSN'] = dfA['SSN'].astype(str)"
   ]
  },
  {
   "cell_type": "code",
   "execution_count": 20,
   "metadata": {},
   "outputs": [],
   "source": [
    "start_time = time.time()\n",
    "# Indexation step\n",
    "pcl = recordlinkage.SortedNeighbourhoodIndex('LastName', window=3)\n",
    "pairs = pcl.index(dfA)\n",
    "# Comparison step\n",
    "compare_cl = recordlinkage.Compare()\n",
    "compare_cl.string('LastName', 'LastName', method='jaro', threshold=0.75, label='LastName')\n",
    "compare_cl.string('FirstName', 'FirstName', method='jaro', threshold=0.75, label='FirstName')\n",
    "compare_cl.string('SSN', 'SSN', method='jaro', threshold=0.75, label='SSN')\n",
    "\n",
    "features = compare_cl.compute(pairs, dfA)\n",
    "end_time = time.time()\n",
    "total_time = end_time - start_time"
   ]
  },
  {
   "cell_type": "code",
   "execution_count": 21,
   "metadata": {},
   "outputs": [
    {
     "name": "stdout",
     "output_type": "stream",
     "text": [
      "24.81622004508972\n"
     ]
    }
   ],
   "source": [
    "print(total_time)"
   ]
  },
  {
   "cell_type": "code",
   "execution_count": 22,
   "metadata": {
    "collapsed": true
   },
   "outputs": [],
   "source": [
    "# Classification step\n",
    "matches = features[features.sum(axis=1) > 2]"
   ]
  },
  {
   "cell_type": "code",
   "execution_count": 23,
   "metadata": {},
   "outputs": [
    {
     "name": "stdout",
     "output_type": "stream",
     "text": [
      "72437\n"
     ]
    }
   ],
   "source": [
    "headers=['tuple_id_1', 'tuple_id_2']\n",
    "print(len(matches))\n",
    "res =[]"
   ]
  },
  {
   "cell_type": "code",
   "execution_count": 24,
   "metadata": {},
   "outputs": [
    {
     "name": "stdout",
     "output_type": "stream",
     "text": [
      "Passed 0\n",
      "Passed 10000\n",
      "Passed 20000\n",
      "Passed 30000\n",
      "Passed 40000\n",
      "Passed 50000\n",
      "Passed 60000\n",
      "Passed 70000\n"
     ]
    }
   ],
   "source": [
    "for i in range(len(matches)):\n",
    "    name0 = matches.iloc[i].name[0]\n",
    "    name1 = matches.iloc[i].name[1]\n",
    "    first = dfA.iloc[name0]['RecID']\n",
    "    second = dfA.iloc[name1]['RecID']\n",
    "    res.append([first,second])\n",
    "    if(i%10000 == 0):\n",
    "        print('Passed', i)"
   ]
  },
  {
   "cell_type": "code",
   "execution_count": 25,
   "metadata": {
    "collapsed": true
   },
   "outputs": [],
   "source": [
    "dfout = pd.DataFrame(res, columns=headers)"
   ]
  },
  {
   "cell_type": "code",
   "execution_count": 26,
   "metadata": {
    "collapsed": true
   },
   "outputs": [],
   "source": [
    "dfout.to_csv('OutputDB-Task2.csv', index=False)"
   ]
  },
  {
   "cell_type": "code",
   "execution_count": 27,
   "metadata": {},
   "outputs": [
    {
     "name": "stdout",
     "output_type": "stream",
     "text": [
      "b'Duplicate Detection Results:\\nPrecision = 0.95679003824\\nRecall = 0.280339771463\\nF1 = 0.433626768274\\n'\n"
     ]
    }
   ],
   "source": [
    "bashCommand = \"python web_client-Task2.py\"\n",
    "import subprocess\n",
    "process = subprocess.Popen(bashCommand.split(), stdout=subprocess.PIPE)\n",
    "output, error = process.communicate()\n",
    "print(output)"
   ]
  },
  {
   "cell_type": "code",
   "execution_count": null,
   "metadata": {
    "collapsed": true
   },
   "outputs": [],
   "source": []
  }
 ],
 "metadata": {
  "kernelspec": {
   "display_name": "Python 3",
   "language": "python",
   "name": "python3"
  },
  "language_info": {
   "codemirror_mode": {
    "name": "ipython",
    "version": 3
   },
   "file_extension": ".py",
   "mimetype": "text/x-python",
   "name": "python",
   "nbconvert_exporter": "python",
   "pygments_lexer": "ipython3",
   "version": "3.6.2"
  }
 },
 "nbformat": 4,
 "nbformat_minor": 2
}
